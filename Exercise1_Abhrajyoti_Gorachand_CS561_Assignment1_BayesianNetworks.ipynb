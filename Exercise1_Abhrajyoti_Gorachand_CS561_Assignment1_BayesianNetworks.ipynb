{
 "cells": [
  {
   "cell_type": "markdown",
   "metadata": {
    "id": "L5cDNuJuxUw_"
   },
   "source": [
    "# **Exercise 1**"
   ]
  },
  {
   "cell_type": "markdown",
   "metadata": {
    "id": "ae9Alp3tJwwX"
   },
   "source": [
    "## **Installing Dependencies**\n",
    "```bash\n",
    "pip install pomegranate==0.14.9\n"
   ]
  },
  {
   "cell_type": "code",
   "execution_count": 1,
   "metadata": {
    "colab": {
     "base_uri": "https://localhost:8080/"
    },
    "id": "bgD4bC1ZpIqI",
    "outputId": "0d1bbed8-f587-46dd-c83c-aae2ffa84c05"
   },
   "outputs": [
    {
     "name": "stdout",
     "output_type": "stream",
     "text": [
      "Collecting pomegranate==0.14.9\n",
      "  Downloading pomegranate-0.14.9.tar.gz (4.7 MB)\n",
      "\u001b[2K     \u001b[90m━━━━━━━━━━━━━━━━━━━━━━━━━━━━━━━━━━━━━━━━\u001b[0m \u001b[32m4.7/4.7 MB\u001b[0m \u001b[31m17.7 MB/s\u001b[0m eta \u001b[36m0:00:00\u001b[0m\n",
      "\u001b[?25h  Installing build dependencies ... \u001b[?25l\u001b[?25hdone\n",
      "  Getting requirements to build wheel ... \u001b[?25l\u001b[?25hdone\n",
      "  Preparing metadata (pyproject.toml) ... \u001b[?25l\u001b[?25hdone\n",
      "Collecting cython<3.0.0,>=0.22.1 (from pomegranate==0.14.9)\n",
      "  Using cached Cython-0.29.37-cp310-cp310-manylinux_2_17_x86_64.manylinux2014_x86_64.manylinux_2_24_x86_64.whl (1.9 MB)\n",
      "Requirement already satisfied: numpy>=1.20.0 in /usr/local/lib/python3.10/dist-packages (from pomegranate==0.14.9) (1.25.2)\n",
      "Requirement already satisfied: joblib>=0.9.0b4 in /usr/local/lib/python3.10/dist-packages (from pomegranate==0.14.9) (1.4.0)\n",
      "Requirement already satisfied: networkx>=2.4 in /usr/local/lib/python3.10/dist-packages (from pomegranate==0.14.9) (3.3)\n",
      "Requirement already satisfied: scipy>=0.17.0 in /usr/local/lib/python3.10/dist-packages (from pomegranate==0.14.9) (1.11.4)\n",
      "Requirement already satisfied: pyyaml in /usr/local/lib/python3.10/dist-packages (from pomegranate==0.14.9) (6.0.1)\n",
      "Building wheels for collected packages: pomegranate\n",
      "  Building wheel for pomegranate (pyproject.toml) ... \u001b[?25l\u001b[?25hdone\n",
      "  Created wheel for pomegranate: filename=pomegranate-0.14.9-cp310-cp310-linux_x86_64.whl size=18331588 sha256=2feb15fc968a6520786dd9252de26e63cd30b2203804a2e5bca63249d5c2924e\n",
      "  Stored in directory: /root/.cache/pip/wheels/14/e7/b2/189a2d351ac4ae073cfa17ce9d56936d59af5712a18028fc31\n",
      "Successfully built pomegranate\n",
      "Installing collected packages: cython, pomegranate\n",
      "  Attempting uninstall: cython\n",
      "    Found existing installation: Cython 3.0.10\n",
      "    Uninstalling Cython-3.0.10:\n",
      "      Successfully uninstalled Cython-3.0.10\n",
      "Successfully installed cython-0.29.37 pomegranate-0.14.9\n"
     ]
    }
   ],
   "source": [
    "pip install pomegranate==0.14.9"
   ]
  },
  {
   "cell_type": "code",
   "execution_count": 2,
   "metadata": {
    "colab": {
     "base_uri": "https://localhost:8080/"
    },
    "id": "7MQU5RvTpO1f",
    "outputId": "48543c99-8095-4c1b-c633-59fcd99574a6"
   },
   "outputs": [
    {
     "name": "stdout",
     "output_type": "stream",
     "text": [
      "Populating the interactive namespace from numpy and matplotlib\n"
     ]
    }
   ],
   "source": [
    "%pylab inline\n",
    "import seaborn; seaborn.set_style('whitegrid')\n",
    "import torch"
   ]
  },
  {
   "cell_type": "markdown",
   "metadata": {
    "id": "fbo0r3LbJ5NO"
   },
   "source": [
    "## **Part A: Designing the Bayesian Network**"
   ]
  },
  {
   "cell_type": "code",
   "execution_count": 3,
   "metadata": {
    "colab": {
     "base_uri": "https://localhost:8080/",
     "height": 912
    },
    "id": "ks92IxwWGhDs",
    "outputId": "1c59bbd3-c187-47d1-d84e-ca829a5b8850"
   },
   "outputs": [
    {
     "data": {
      "image/png": "[encoded data removed]",
      "text/plain": [
       "<Figure size 800x400 with 1 Axes>"
      ]
     },
     "metadata": {},
     "output_type": "display_data"
    },
    {
     "name": "stdout",
     "output_type": "stream",
     "text": [
      "Conditional Probability Tables (CPTs):\n",
      "\n",
      "Travel:\n",
      "        Probability\n",
      "T=No          0.95\n",
      "T=Yes         0.05\n",
      "\n",
      "Foreign Purchase given Travel:\n",
      "           T=No  T=Yes\n",
      "FP=No   0.9999   0.12\n",
      "FP=Yes  0.0001   0.88\n",
      "\n",
      "Owns Device:\n",
      "         Probability\n",
      "OD=No           0.3\n",
      "OD=Yes          0.7\n",
      "\n",
      "Online Purchase given Owns Device:\n",
      "         OD=No  OD=Yes\n",
      "OP=No    0.95     0.6\n",
      "OP=Yes   0.05     0.4\n",
      "\n",
      "Fraud given Foreign Purchase and Online Purchase:\n",
      "        FP=No, OP=No  FP=No, OP=Yes  FP=Yes, OP=No  FP=Yes, OP=Yes\n",
      "F=No           0.25           0.15            0.2           0.005\n",
      "F=Yes          0.75           0.85            0.8           0.995\n"
     ]
    }
   ],
   "source": [
    "import matplotlib.pyplot as plt\n",
    "import pandas as pd\n",
    "import networkx as nx\n",
    "import pomegranate as pom\n",
    "\n",
    "F = 'Fraud'\n",
    "T = 'Travel'\n",
    "OD = 'OwnsDevice'\n",
    "FP = 'ForeignPurchase'\n",
    "OP = 'OnlinePurchase'\n",
    "\n",
    "# travel distribution\n",
    "travel_distribution = pom.DiscreteDistribution({False: 0.05, True: 0.95})\n",
    "\n",
    "# foreign purchase given travel distribution\n",
    "foreign_purchase_distribution = pom.ConditionalProbabilityTable(\n",
    "    [\n",
    "        [False, False, 0.9999],\n",
    "        [False, True, 0.0001],\n",
    "        [True, False, 0.12],\n",
    "        [True, True, 0.88]\n",
    "    ],\n",
    "    [travel_distribution])\n",
    "\n",
    "# owns device distribution\n",
    "owns_device_distribution = pom.DiscreteDistribution({False: 0.3, True: 0.7})\n",
    "\n",
    "# online purchase given owns device distribution\n",
    "online_purchase_distribution = pom.ConditionalProbabilityTable(\n",
    "    [\n",
    "        [False, False, 0.95],\n",
    "        [False, True, 0.05],\n",
    "        [True, False, 0.60],\n",
    "        [True, True, 0.40]\n",
    "    ],\n",
    "    [owns_device_distribution])\n",
    "\n",
    "# fraud given online purchase and foreign purchase distribution\n",
    "fraud_distribution = pom.ConditionalProbabilityTable(\n",
    "    [\n",
    "        [False, False, False, 0.25],\n",
    "        [False, True, False, 0.15],\n",
    "        [True, False, False, 0.20],\n",
    "        [True, True, False, 0.005],\n",
    "        [False, False, True, 0.75],\n",
    "        [False, True, True, 0.85],\n",
    "        [True, False, True, 0.80],\n",
    "        [True, True, True, 0.995]\n",
    "    ],\n",
    "    [online_purchase_distribution, foreign_purchase_distribution])\n",
    "\n",
    "# Nodes creation for Bayesian Network\n",
    "foreign_purchase = pom.Node(foreign_purchase_distribution, name=FP)\n",
    "online_purchase = pom.Node(online_purchase_distribution, name=OP)\n",
    "fraud = pom.Node(fraud_distribution, name=F)\n",
    "owns_device = pom.Node(owns_device_distribution, name=OD)\n",
    "travel = pom.Node(travel_distribution, name=T)\n",
    "\n",
    "# Bayesian Network creation\n",
    "model = pom.BayesianNetwork(\"Fraud Detection\")\n",
    "model.add_states(fraud, owns_device, travel, foreign_purchase, online_purchase)\n",
    "\n",
    "# Dependencies between Nodes though add directed edges\n",
    "model.add_edge(travel, foreign_purchase)\n",
    "model.add_edge(owns_device, online_purchase)\n",
    "model.add_edge(foreign_purchase, fraud)\n",
    "model.add_edge(online_purchase, fraud)\n",
    "model.bake()\n",
    "\n",
    "# Define conditional probability tables with more details\n",
    "cpt_travel = pd.DataFrame({'Probability': [0.95, 0.05]}, index=['T=No', 'T=Yes'])\n",
    "cpt_foreign_purchase = pd.DataFrame({'T=No': [0.9999, 0.0001],\n",
    "                                     'T=Yes': [0.12, 0.88]}, index=['FP=No', 'FP=Yes'])\n",
    "cpt_owns_device = pd.DataFrame({'Probability': [0.3, 0.7]}, index=['OD=No', 'OD=Yes'])\n",
    "cpt_online_purchase = pd.DataFrame({'OD=No': [0.95, 0.05],\n",
    "                                    'OD=Yes': [0.6, 0.4]}, index=['OP=No', 'OP=Yes'])\n",
    "cpt_fraud = pd.DataFrame({'FP=No, OP=No': [0.25, 0.75],\n",
    "                          'FP=No, OP=Yes': [0.15, 0.85],\n",
    "                          'FP=Yes, OP=No': [0.2, 0.8],\n",
    "                          'FP=Yes, OP=Yes': [0.005, 0.995]},\n",
    "                         index=['F=No', 'F=Yes'])\n",
    "\n",
    "# Create directed graph\n",
    "G = nx.DiGraph()\n",
    "\n",
    "# Add nodes\n",
    "G.add_nodes_from(['T', 'FP', 'OD', 'OP', 'F'])\n",
    "\n",
    "# Add edges\n",
    "G.add_edges_from([('T', 'FP'),\n",
    "                  ('OD', 'OP'),\n",
    "                  ('FP', 'F'),\n",
    "                  ('OP', 'F')])\n",
    "\n",
    "# Manually set the positions for each node for better alignment and visualization\n",
    "pos = {\n",
    "    'T': (0, 1),  # Travel at the top\n",
    "    'FP': (1, 1),  # Foreign Purchase to the right of Travel\n",
    "    'OD': (0, 0),  # Owns Device at the bottom left\n",
    "    'OP': (1, 0),  # Online Purchase to the right of Owns Device, at the bottom\n",
    "    'F': (2, 0.5)  # Fraud to the right of Foreign Purchase and Online Purchase, centered vertically\n",
    "}\n",
    "\n",
    "# Draw the graph with manually set positions\n",
    "plt.figure(figsize=(8, 4))\n",
    "nx.draw(G, pos, with_labels=True, node_size=2500, node_color=['lightgreen', 'lightblue', 'lightcoral', 'lightsalmon', 'lightgray'],\n",
    "        font_size=12, font_weight='bold', arrowsize=20)\n",
    "\n",
    "plt.title(\"Bayesian Network Visualization\", fontsize=16)\n",
    "plt.axis('off')  # Turn off the axis\n",
    "plt.show()\n",
    "\n",
    "# Print conditional probability tables more beautifully\n",
    "print(\"Conditional Probability Tables (CPTs):\")\n",
    "print(\"\\nTravel:\\n\", cpt_travel.to_string())\n",
    "print(\"\\nForeign Purchase given Travel:\\n\", cpt_foreign_purchase.to_string())\n",
    "print(\"\\nOwns Device:\\n\", cpt_owns_device.to_string())\n",
    "print(\"\\nOnline Purchase given Owns Device:\\n\", cpt_online_purchase.to_string())\n",
    "print(\"\\nFraud given Foreign Purchase and Online Purchase:\\n\", cpt_fraud.to_string())\n"
   ]
  },
  {
   "cell_type": "markdown",
   "metadata": {
    "id": "bTLgxtmZIrMH"
   },
   "source": [
    "## **Part B: Inference in Bayesian Network**"
   ]
  },
  {
   "cell_type": "code",
   "execution_count": 4,
   "metadata": {
    "colab": {
     "base_uri": "https://localhost:8080/"
    },
    "id": "mheyt2EzNokX",
    "outputId": "6030e630-ca3a-4625-da99-0cf6dfc009ee"
   },
   "outputs": [
    {
     "name": "stdout",
     "output_type": "stream",
     "text": [
      "Using Variable Elimination:\n",
      "\n",
      "Query (a): Probability of Fraud with no evidence (V.E.M): 0.8717795401249998\n",
      "Query (b): Probability of Fraud with evidence that the person owns a device (V.E.M): 0.8853686899999998\n",
      "Query (c): Probability of Fraud with evidence that the person owns a device and travels (V.E.M): 0.8914399999999999\n",
      "\n",
      "----------------------------------------------------------------------------------------------------------------------------\n",
      "\n",
      "Using Gibbs Sampling:\n",
      "\n",
      "Query (a): Probability of Fraud with no evidence (Gibbs Sampling): 0.8696\n",
      "Query (b): Probability of Fraud with evidence that the person owns a device (Gibbs Sampling): 0.882\n",
      "Query (c): Probability of Fraud with evidence that the person owns a device and travels (Gibbs Sampling): 0.8915\n"
     ]
    }
   ],
   "source": [
    "N = 10000\n",
    "\n",
    "# Variable Elimination to find probabilities under different evidences\n",
    "\n",
    "#Time Complexity : O(d^k); d = largest domain size\n",
    "\n",
    "print(\"Using Variable Elimination:\\n\")\n",
    "\n",
    "# No evidence\n",
    "no_evidence = model.predict_proba({})\n",
    "prob_fraud_no_evidence = no_evidence[model.states.index(fraud)].parameters[0][True]\n",
    "\n",
    "# Evidence: OwnsDevice = True\n",
    "evidence_owns_device = {OD: True}\n",
    "prob_fraud_owns_device = model.predict_proba(evidence_owns_device)[model.states.index(fraud)].parameters[0][True]\n",
    "\n",
    "# Evidence: OwnsDevice = True, Travel = True\n",
    "evidence_owns_device_and_travels = {OD: True, T: True}\n",
    "prob_fraud_owns_device_and_travels = model.predict_proba(evidence_owns_device_and_travels)[model.states.index(fraud)].parameters[0][True]\n",
    "\n",
    "print(\"Query (a): Probability of Fraud with no evidence (V.E.M):\", prob_fraud_no_evidence)\n",
    "print(\"Query (b): Probability of Fraud with evidence that the person owns a device (V.E.M):\", prob_fraud_owns_device)\n",
    "print(\"Query (c): Probability of Fraud with evidence that the person owns a device and travels (V.E.M):\", prob_fraud_owns_device_and_travels)\n",
    "\n",
    "print(\"\\n----------------------------------------------------------------------------------------------------------------------------\\n\")\n",
    "print(\"Using Gibbs Sampling:\\n\")\n",
    "\n",
    "# Gibbs Sampling\n",
    "\n",
    "#Time Complexity : O(n*t);  n: no.of random variables,\n",
    "\n",
    "# No evidence\n",
    "predictions_gibbs_no_evidence = model._gibbs(n=N, evidences=[{}])\n",
    "prob_fraud_no_evidence_gibbs = len(list(filter(lambda x: x[0], predictions_gibbs_no_evidence))) / N\n",
    "print(\"Query (a): Probability of Fraud with no evidence (Gibbs Sampling):\", prob_fraud_no_evidence_gibbs)\n",
    "\n",
    "# Evidence: OwnsDevice = True\n",
    "predictions_gibbs_owns_device = model._gibbs(n=N, evidences=[{OD: True}])\n",
    "prob_fraud_owns_device_gibbs = len(list(filter(lambda x: x[0], predictions_gibbs_owns_device))) / N\n",
    "print(\"Query (b): Probability of Fraud with evidence that the person owns a device (Gibbs Sampling):\", prob_fraud_owns_device_gibbs)\n",
    "\n",
    "# Evidence: OwnsDevice = True, Travel = True\n",
    "predictions_gibbs_abroad = model._gibbs(n=N, evidences=[{OD: True, T: True}])\n",
    "prob_fraud_abroad_gibbs = len(list(filter(lambda x: x[0], predictions_gibbs_abroad))) / N\n",
    "print(\"Query (c): Probability of Fraud with evidence that the person owns a device and travels (Gibbs Sampling):\", prob_fraud_abroad_gibbs)\n"
   ]
  },
  {
   "cell_type": "code",
   "execution_count": null,
   "metadata": {
    "id": "VdoeYGmIPf7-"
   },
   "outputs": [],
   "source": []
  }
 ],
 "metadata": {
  "accelerator": "GPU",
  "colab": {
   "gpuType": "T4",
   "provenance": []
  },
  "kernelspec": {
   "display_name": "cuda-gpt",
   "language": "python",
   "name": "cuda"
  },
  "language_info": {
   "codemirror_mode": {
    "name": "ipython",
    "version": 3
   },
   "file_extension": ".py",
   "mimetype": "text/x-python",
   "name": "python",
   "nbconvert_exporter": "python",
   "pygments_lexer": "ipython3",
   "version": "3.11.4"
  }
 },
 "nbformat": 4,
 "nbformat_minor": 1
}
